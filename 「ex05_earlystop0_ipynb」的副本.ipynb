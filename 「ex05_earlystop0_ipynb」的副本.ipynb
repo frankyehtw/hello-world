{
  "nbformat": 4,
  "nbformat_minor": 0,
  "metadata": {
    "kernelspec": {
      "display_name": "Python 3",
      "language": "python",
      "name": "python3"
    },
    "language_info": {
      "codemirror_mode": {
        "name": "ipython",
        "version": 3
      },
      "file_extension": ".py",
      "mimetype": "text/x-python",
      "name": "python",
      "nbconvert_exporter": "python",
      "pygments_lexer": "ipython3",
      "version": "3.6.13"
    },
    "colab": {
      "name": "「ex05_earlystop0.ipynb」的副本",
      "provenance": [],
      "include_colab_link": true
    }
  },
  "cells": [
    {
      "cell_type": "markdown",
      "metadata": {
        "id": "view-in-github",
        "colab_type": "text"
      },
      "source": [
        "<a href=\"https://colab.research.google.com/github/frankyehtw/hello-world/blob/master/%E3%80%8Cex05_earlystop0_ipynb%E3%80%8D%E7%9A%84%E5%89%AF%E6%9C%AC.ipynb\" target=\"_parent\"><img src=\"https://colab.research.google.com/assets/colab-badge.svg\" alt=\"Open In Colab\"/></a>"
      ]
    },
    {
      "cell_type": "code",
      "metadata": {
        "colab": {
          "resources": {
            "http://localhost:8080/nbextensions/google.colab/files.js": {
              "data": "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",
              "ok": true,
              "headers": [
                [
                  "content-type",
                  "application/javascript"
                ]
              ],
              "status": 200,
              "status_text": ""
            }
          },
          "base_uri": "https://localhost:8080/",
          "height": 92
        },
        "id": "0W1Gj3JzrS3b",
        "outputId": "799fc3ce-39a0-4fc1-c17f-d1fde6c708f8"
      },
      "source": [
        "from google.colab import files\n",
        "uploaded = files.upload()      # 上傳檔案到 Colab\n",
        "!ls"
      ],
      "execution_count": null,
      "outputs": [
        {
          "output_type": "display_data",
          "data": {
            "text/html": [
              "\n",
              "     <input type=\"file\" id=\"files-1fb78001-b195-4677-bacb-a945eb512531\" name=\"files[]\" multiple disabled\n",
              "        style=\"border:none\" />\n",
              "     <output id=\"result-1fb78001-b195-4677-bacb-a945eb512531\">\n",
              "      Upload widget is only available when the cell has been executed in the\n",
              "      current browser session. Please rerun this cell to enable.\n",
              "      </output>\n",
              "      <script src=\"/nbextensions/google.colab/files.js\"></script> "
            ],
            "text/plain": [
              "<IPython.core.display.HTML object>"
            ]
          },
          "metadata": {
            "tags": []
          }
        },
        {
          "output_type": "stream",
          "text": [
            "Saving pkgo_city66_class5_v1.csv to pkgo_city66_class5_v1.csv\n",
            "pkgo_city66_class5_v1.csv  sample_data\n"
          ],
          "name": "stdout"
        }
      ]
    },
    {
      "cell_type": "code",
      "metadata": {
        "id": "tKgZxSm9rSM_"
      },
      "source": [
        "import numpy as np\n",
        "np.random.seed(1337)\n",
        "\n",
        "my_data = np.genfromtxt('pkgo_city66_class5_v1.csv', delimiter=',',skip_header=1)\n",
        "\n",
        "X_train = my_data[:,0:200]\n",
        "X_train = X_train.astype('float32')\n",
        "\n",
        "y_train = my_data[:,200]\n",
        "y_train = y_train.astype('int')\n",
        "\n",
        "import tensorflow\n",
        "Y_train = tensorflow.keras.utils.to_categorical(y_train,5)\n",
        "\n",
        "from sklearn.utils import shuffle\n",
        "X_train,Y_train = shuffle(X_train,Y_train,random_state=100)\n",
        "\n",
        "\n",
        "# set the size of mini-batch and number of epochs\n",
        "batch_size = 16\n",
        "epochs = 50\n",
        "\n",
        "# Import keras to build a DL model\n",
        "from tensorflow.keras.models import Sequential\n",
        "from tensorflow.keras.layers import Dense, Activation\n",
        "from tensorflow.keras.regularizers import l2"
      ],
      "execution_count": null,
      "outputs": []
    },
    {
      "cell_type": "markdown",
      "metadata": {
        "id": "cb8I-3sNrSNB"
      },
      "source": [
        "### Step 1: 從 keras.callbacks 中 import EerlyStopping  "
      ]
    },
    {
      "cell_type": "code",
      "metadata": {
        "id": "oAbt7QlgrSNC"
      },
      "source": [
        "# Step 1 HERE\n",
        "#from keras.callbacks import EarlyStopping"
      ],
      "execution_count": null,
      "outputs": []
    },
    {
      "cell_type": "markdown",
      "metadata": {
        "id": "n3BSvnRtrSNC"
      },
      "source": [
        "### Step 2: 宣告一個 earlystop object 並設定 monitor='val_loss' 與 patience=3"
      ]
    },
    {
      "cell_type": "code",
      "metadata": {
        "id": "2Aj2DQU_rSNC"
      },
      "source": [
        "#early_stopping = EarlyStopping(monitor = 'val_loss', min_delta=0.0001, patience = 3)"
      ],
      "execution_count": null,
      "outputs": []
    },
    {
      "cell_type": "code",
      "metadata": {
        "id": "6Crki5ZKrSNC"
      },
      "source": [
        "#print('Building current best model with EarlyStopping')\n",
        "model_adam = Sequential()\n",
        "model_adam.add(Dense(128, input_dim=200))\n",
        "model_adam.add(Activation('relu'))\n",
        "model_adam.add(Dense(256))\n",
        "model_adam.add(Activation('relu'))\n",
        "model_adam.add(Dense(5))\n",
        "model_adam.add(Activation('softmax'))\n",
        "\n",
        "''' Setting optimizer as Adam '''\n",
        "from tensorflow.keras.optimizers import Adam\n",
        "model_adam.compile(loss= 'categorical_crossentropy',\n",
        "                   optimizer='Adam',\n",
        "                   metrics=['accuracy'])"
      ],
      "execution_count": null,
      "outputs": []
    },
    {
      "cell_type": "markdown",
      "metadata": {
        "id": "HeMF3xoFrSND"
      },
      "source": [
        "### Step 3: 在 fit 時加入 callbacks, 把先前設定的 EarlyStopping 加入"
      ]
    },
    {
      "cell_type": "code",
      "metadata": {
        "colab": {
          "base_uri": "https://localhost:8080/"
        },
        "id": "ACew4mvbrSND",
        "outputId": "fc21fc77-ccf3-412d-bfc9-c572f8b1c1a1"
      },
      "source": [
        "# Fit models and use validation_split=0.1\n",
        "history_adam = model_adam.fit(X_train, Y_train,\n",
        "\t\t\t\t\t\t\tbatch_size=batch_size,\n",
        "\t\t\t\t\t\t\tepochs=epochs,\n",
        "\t\t\t\t\t\t\tverbose=1,\n",
        "\t\t\t\t\t\t\tshuffle=True,\n",
        "                    \t\tvalidation_split=0.1)"
      ],
      "execution_count": null,
      "outputs": [
        {
          "output_type": "stream",
          "text": [
            "Epoch 1/50\n",
            "104/104 [==============================] - 1s 6ms/step - loss: 2.5834 - accuracy: 0.4207 - val_loss: 1.1655 - val_accuracy: 0.6033\n",
            "Epoch 2/50\n",
            "104/104 [==============================] - 0s 2ms/step - loss: 1.1916 - accuracy: 0.5622 - val_loss: 1.0958 - val_accuracy: 0.6250\n",
            "Epoch 3/50\n",
            "104/104 [==============================] - 0s 2ms/step - loss: 1.1568 - accuracy: 0.5880 - val_loss: 0.9153 - val_accuracy: 0.6467\n",
            "Epoch 4/50\n",
            "104/104 [==============================] - 0s 2ms/step - loss: 1.0203 - accuracy: 0.6363 - val_loss: 0.9417 - val_accuracy: 0.6522\n",
            "Epoch 5/50\n",
            "104/104 [==============================] - 0s 2ms/step - loss: 0.9870 - accuracy: 0.6476 - val_loss: 0.8807 - val_accuracy: 0.6848\n",
            "Epoch 6/50\n",
            "104/104 [==============================] - 0s 2ms/step - loss: 0.9567 - accuracy: 0.6502 - val_loss: 0.9268 - val_accuracy: 0.6848\n",
            "Epoch 7/50\n",
            "104/104 [==============================] - 0s 2ms/step - loss: 0.9018 - accuracy: 0.6876 - val_loss: 0.9329 - val_accuracy: 0.6630\n",
            "Epoch 8/50\n",
            "104/104 [==============================] - 0s 2ms/step - loss: 0.8784 - accuracy: 0.6895 - val_loss: 0.8541 - val_accuracy: 0.6848\n",
            "Epoch 9/50\n",
            "104/104 [==============================] - 0s 2ms/step - loss: 0.9245 - accuracy: 0.6595 - val_loss: 0.8298 - val_accuracy: 0.7283\n",
            "Epoch 10/50\n",
            "104/104 [==============================] - 0s 2ms/step - loss: 0.8174 - accuracy: 0.7309 - val_loss: 0.8572 - val_accuracy: 0.6902\n",
            "Epoch 11/50\n",
            "104/104 [==============================] - 0s 2ms/step - loss: 0.8483 - accuracy: 0.7071 - val_loss: 0.8182 - val_accuracy: 0.7011\n",
            "Epoch 12/50\n",
            "104/104 [==============================] - 0s 2ms/step - loss: 0.8124 - accuracy: 0.7315 - val_loss: 0.7865 - val_accuracy: 0.7391\n",
            "Epoch 13/50\n",
            "104/104 [==============================] - 0s 2ms/step - loss: 0.7982 - accuracy: 0.7142 - val_loss: 0.7947 - val_accuracy: 0.7283\n",
            "Epoch 14/50\n",
            "104/104 [==============================] - 0s 2ms/step - loss: 0.8088 - accuracy: 0.7142 - val_loss: 0.8452 - val_accuracy: 0.6957\n",
            "Epoch 15/50\n",
            "104/104 [==============================] - 0s 2ms/step - loss: 0.8014 - accuracy: 0.7146 - val_loss: 0.8305 - val_accuracy: 0.7391\n",
            "Epoch 16/50\n",
            "104/104 [==============================] - 0s 2ms/step - loss: 0.7623 - accuracy: 0.7309 - val_loss: 0.7686 - val_accuracy: 0.7391\n",
            "Epoch 17/50\n",
            "104/104 [==============================] - 0s 2ms/step - loss: 0.7489 - accuracy: 0.7479 - val_loss: 0.7656 - val_accuracy: 0.7446\n",
            "Epoch 18/50\n",
            "104/104 [==============================] - 0s 2ms/step - loss: 0.6830 - accuracy: 0.7709 - val_loss: 0.8087 - val_accuracy: 0.7228\n",
            "Epoch 19/50\n",
            "104/104 [==============================] - 0s 2ms/step - loss: 0.6621 - accuracy: 0.7674 - val_loss: 0.7858 - val_accuracy: 0.7174\n",
            "Epoch 20/50\n",
            "104/104 [==============================] - 0s 2ms/step - loss: 0.7063 - accuracy: 0.7448 - val_loss: 0.8282 - val_accuracy: 0.7337\n",
            "Epoch 21/50\n",
            "104/104 [==============================] - 0s 2ms/step - loss: 0.6728 - accuracy: 0.7550 - val_loss: 0.7907 - val_accuracy: 0.7283\n",
            "Epoch 22/50\n",
            "104/104 [==============================] - 0s 2ms/step - loss: 0.6005 - accuracy: 0.7760 - val_loss: 0.8137 - val_accuracy: 0.7065\n",
            "Epoch 23/50\n",
            "104/104 [==============================] - 0s 2ms/step - loss: 0.5835 - accuracy: 0.8007 - val_loss: 0.8172 - val_accuracy: 0.7500\n",
            "Epoch 24/50\n",
            "104/104 [==============================] - 0s 2ms/step - loss: 0.6188 - accuracy: 0.8003 - val_loss: 0.8686 - val_accuracy: 0.7065\n",
            "Epoch 25/50\n",
            "104/104 [==============================] - 0s 2ms/step - loss: 0.6072 - accuracy: 0.7788 - val_loss: 0.8081 - val_accuracy: 0.7011\n",
            "Epoch 26/50\n",
            "104/104 [==============================] - 0s 2ms/step - loss: 0.5512 - accuracy: 0.8085 - val_loss: 0.7790 - val_accuracy: 0.7554\n",
            "Epoch 27/50\n",
            "104/104 [==============================] - 0s 2ms/step - loss: 0.5245 - accuracy: 0.8210 - val_loss: 0.7757 - val_accuracy: 0.7446\n",
            "Epoch 28/50\n",
            "104/104 [==============================] - 0s 2ms/step - loss: 0.5177 - accuracy: 0.8258 - val_loss: 0.8356 - val_accuracy: 0.7228\n",
            "Epoch 29/50\n",
            "104/104 [==============================] - 0s 2ms/step - loss: 0.5173 - accuracy: 0.8018 - val_loss: 0.8488 - val_accuracy: 0.7011\n",
            "Epoch 30/50\n",
            "104/104 [==============================] - 0s 2ms/step - loss: 0.5069 - accuracy: 0.8156 - val_loss: 0.8367 - val_accuracy: 0.7554\n",
            "Epoch 31/50\n",
            "104/104 [==============================] - 0s 2ms/step - loss: 0.4606 - accuracy: 0.8256 - val_loss: 0.8258 - val_accuracy: 0.7228\n",
            "Epoch 32/50\n",
            "104/104 [==============================] - 0s 2ms/step - loss: 0.5086 - accuracy: 0.8041 - val_loss: 0.9315 - val_accuracy: 0.6957\n",
            "Epoch 33/50\n",
            "104/104 [==============================] - 0s 2ms/step - loss: 0.4649 - accuracy: 0.8331 - val_loss: 0.9118 - val_accuracy: 0.6957\n",
            "Epoch 34/50\n",
            "104/104 [==============================] - 0s 2ms/step - loss: 0.4423 - accuracy: 0.8379 - val_loss: 0.8066 - val_accuracy: 0.7228\n",
            "Epoch 35/50\n",
            "104/104 [==============================] - 0s 2ms/step - loss: 0.4098 - accuracy: 0.8443 - val_loss: 0.9309 - val_accuracy: 0.7120\n",
            "Epoch 36/50\n",
            "104/104 [==============================] - 0s 2ms/step - loss: 0.4387 - accuracy: 0.8326 - val_loss: 0.8214 - val_accuracy: 0.7391\n",
            "Epoch 37/50\n",
            "104/104 [==============================] - 0s 2ms/step - loss: 0.3766 - accuracy: 0.8591 - val_loss: 0.8508 - val_accuracy: 0.7283\n",
            "Epoch 38/50\n",
            "104/104 [==============================] - 0s 2ms/step - loss: 0.3674 - accuracy: 0.8618 - val_loss: 0.9455 - val_accuracy: 0.7337\n",
            "Epoch 39/50\n",
            "104/104 [==============================] - 0s 2ms/step - loss: 0.3248 - accuracy: 0.8793 - val_loss: 0.9284 - val_accuracy: 0.7609\n",
            "Epoch 40/50\n",
            "104/104 [==============================] - 0s 2ms/step - loss: 0.3179 - accuracy: 0.8865 - val_loss: 0.8649 - val_accuracy: 0.7283\n",
            "Epoch 41/50\n",
            "104/104 [==============================] - 0s 2ms/step - loss: 0.3285 - accuracy: 0.8784 - val_loss: 0.9381 - val_accuracy: 0.7391\n",
            "Epoch 42/50\n",
            "104/104 [==============================] - 0s 2ms/step - loss: 0.2966 - accuracy: 0.8922 - val_loss: 0.9430 - val_accuracy: 0.7174\n",
            "Epoch 43/50\n",
            "104/104 [==============================] - 0s 2ms/step - loss: 0.3334 - accuracy: 0.8810 - val_loss: 1.0403 - val_accuracy: 0.6902\n",
            "Epoch 44/50\n",
            "104/104 [==============================] - 0s 2ms/step - loss: 0.3090 - accuracy: 0.8919 - val_loss: 0.9482 - val_accuracy: 0.7120\n",
            "Epoch 45/50\n",
            "104/104 [==============================] - 0s 2ms/step - loss: 0.2804 - accuracy: 0.8928 - val_loss: 0.8958 - val_accuracy: 0.7446\n",
            "Epoch 46/50\n",
            "104/104 [==============================] - 0s 2ms/step - loss: 0.2581 - accuracy: 0.9009 - val_loss: 0.8643 - val_accuracy: 0.7609\n",
            "Epoch 47/50\n",
            "104/104 [==============================] - 0s 2ms/step - loss: 0.2756 - accuracy: 0.9034 - val_loss: 0.9646 - val_accuracy: 0.7174\n",
            "Epoch 48/50\n",
            "104/104 [==============================] - 0s 2ms/step - loss: 0.2271 - accuracy: 0.9124 - val_loss: 0.9924 - val_accuracy: 0.7337\n",
            "Epoch 49/50\n",
            "104/104 [==============================] - 0s 2ms/step - loss: 0.2107 - accuracy: 0.9318 - val_loss: 1.0226 - val_accuracy: 0.6957\n",
            "Epoch 50/50\n",
            "104/104 [==============================] - 0s 2ms/step - loss: 0.1906 - accuracy: 0.9480 - val_loss: 1.0750 - val_accuracy: 0.6630\n"
          ],
          "name": "stdout"
        }
      ]
    },
    {
      "cell_type": "code",
      "metadata": {
        "colab": {
          "base_uri": "https://localhost:8080/",
          "height": 441
        },
        "id": "dq6AAuptrSNE",
        "outputId": "8ad1aaad-5dd7-42bb-a05b-f93ba9d64435"
      },
      "source": [
        "# Visualize the loss and accuracy of both models\n",
        "loss_adam = history_adam.history.get('loss')\n",
        "acc_adam = history_adam.history.get('accuracy')\n",
        "val_loss_adam = history_adam.history.get('val_loss')\n",
        "val_acc_adam = history_adam.history.get('val_accuracy')\n",
        "\n",
        "import matplotlib.pyplot as plt\n",
        "plt.figure(0,figsize=(8,6))\n",
        "plt.subplot(121)\n",
        "plt.plot(range(len(loss_adam)), loss_adam,label='Training')\n",
        "plt.plot(range(len(val_loss_adam)), val_loss_adam,label='Validation')\n",
        "plt.title('Loss')\n",
        "plt.xlabel(\"epoch\")\n",
        "plt.legend(loc='upper left')\n",
        "plt.subplot(122)\n",
        "plt.plot(range(len(acc_adam)), acc_adam,label='Training')\n",
        "plt.plot(range(len(val_acc_adam)), val_acc_adam,label='Validation')\n",
        "plt.title('Accuracy')\n",
        "plt.xlabel(\"epoch\")\n",
        "plt.tight_layout()"
      ],
      "execution_count": null,
      "outputs": [
        {
          "output_type": "display_data",
          "data": {
            "image/png": "[encoded data removed]",
            "text/plain": [
              "<Figure size 576x432 with 2 Axes>"
            ]
          },
          "metadata": {
            "tags": [],
            "needs_background": "light"
          }
        }
      ]
    },
    {
      "cell_type": "code",
      "metadata": {
        "id": "ouC8b2byrSNE"
      },
      "source": [
        ""
      ],
      "execution_count": null,
      "outputs": []
    }
  ]
}