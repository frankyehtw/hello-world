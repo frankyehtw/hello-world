{
  "nbformat": 4,
  "nbformat_minor": 0,
  "metadata": {
    "colab": {
      "name": "「Untitled14.ipynb」的副本",
      "provenance": [],
      "include_colab_link": true
    },
    "kernelspec": {
      "name": "python3",
      "display_name": "Python 3"
    },
    "language_info": {
      "name": "python"
    }
  },
  "cells": [
    {
      "cell_type": "markdown",
      "metadata": {
        "id": "view-in-github",
        "colab_type": "text"
      },
      "source": [
        "<a href=\"https://colab.research.google.com/github/frankyehtw/hello-world/blob/master/%E3%80%8CUntitled14_ipynb%E3%80%8D%E7%9A%84%E5%89%AF%E6%9C%AC.ipynb\" target=\"_parent\"><img src=\"https://colab.research.google.com/assets/colab-badge.svg\" alt=\"Open In Colab\"/></a>"
      ]
    },
    {
      "cell_type": "code",
      "metadata": {
        "colab": {
          "base_uri": "https://localhost:8080/"
        },
        "id": "wWfKhYkXSLva",
        "outputId": "b79c5195-e6f4-4f4b-95cd-2a86d1dcdb46"
      },
      "source": [
        "import tensorflow\n",
        "from tensorflow.keras.datasets import mnist\n",
        "\n",
        "(X_train, y_train), (X_test, y_test) = mnist.load_data()\n",
        " \n",
        "#reshape data to fit model\n",
        "X_train = X_train.reshape(60000,28,28,1)\n",
        "X_test = X_test.reshape(10000,28,28,1)\n",
        "\n",
        "#Standardize feature data \n",
        "X_train = X_train/255 \n",
        "X_test = X_test/255\n",
        "\n",
        "from tensorflow.keras.utils import to_categorical\n",
        "#one-hot encode target column\n",
        "y_trainOneHot = to_categorical(y_train)\n",
        "y_testOneHot = to_categorical(y_test)\n",
        "\n",
        " # Building the model\n",
        "from tensorflow.keras.models import Sequential\n",
        "from tensorflow.keras.layers import Dense, Conv2D, Flatten, MaxPooling2D, Dropout\n",
        " \n",
        "#create model\n",
        "model = Sequential()\n",
        "#add model layers\n",
        "model.add(Conv2D(16,kernel_size=5, padding='same',activation='relu',input_shape=(28,28,1)))\n",
        "model.add(MaxPooling2D(pool_size=(2,2)))\n",
        "model.add(Conv2D(36,kernel_size=5,padding='same',activation='relu'))\n",
        "model.add(MaxPooling2D(pool_size=(2,2)))\n",
        "#Add Dropout layer \n",
        "model.add(Dropout(0.25))\n",
        "\n",
        "model.add(Flatten())\n",
        "model.add(Dense(128,activation='relu'))\n",
        "model.add(Dropout(0.25))\n",
        "model.add(Dense(10,activation='softmax'))\n",
        " #compile model using accuracy to measure model performance\n",
        "model.compile(optimizer='adam',loss='categorical_crossentropy',metrics=['accuracy'])\n",
        " #train the model\n",
        "model.fit(X_train,y_trainOneHot,validation_split=0.2, epochs=10, batch_size=300, verbose=2)\n"
      ],
      "execution_count": null,
      "outputs": [
        {
          "output_type": "stream",
          "text": [
            "Epoch 1/10\n",
            "160/160 - 46s - loss: 0.4205 - accuracy: 0.8700 - val_loss: 0.0953 - val_accuracy: 0.9719\n",
            "Epoch 2/10\n",
            "160/160 - 46s - loss: 0.1100 - accuracy: 0.9657 - val_loss: 0.0637 - val_accuracy: 0.9816\n",
            "Epoch 3/10\n",
            "160/160 - 46s - loss: 0.0791 - accuracy: 0.9755 - val_loss: 0.0498 - val_accuracy: 0.9847\n",
            "Epoch 4/10\n",
            "160/160 - 46s - loss: 0.0610 - accuracy: 0.9809 - val_loss: 0.0424 - val_accuracy: 0.9880\n",
            "Epoch 5/10\n",
            "160/160 - 46s - loss: 0.0520 - accuracy: 0.9837 - val_loss: 0.0446 - val_accuracy: 0.9872\n",
            "Epoch 6/10\n",
            "160/160 - 46s - loss: 0.0438 - accuracy: 0.9859 - val_loss: 0.0369 - val_accuracy: 0.9886\n",
            "Epoch 7/10\n",
            "160/160 - 46s - loss: 0.0375 - accuracy: 0.9879 - val_loss: 0.0355 - val_accuracy: 0.9893\n",
            "Epoch 8/10\n",
            "160/160 - 46s - loss: 0.0343 - accuracy: 0.9895 - val_loss: 0.0340 - val_accuracy: 0.9902\n",
            "Epoch 9/10\n",
            "160/160 - 46s - loss: 0.0330 - accuracy: 0.9898 - val_loss: 0.0319 - val_accuracy: 0.9906\n",
            "Epoch 10/10\n",
            "160/160 - 46s - loss: 0.0274 - accuracy: 0.9912 - val_loss: 0.0331 - val_accuracy: 0.9908\n"
          ],
          "name": "stdout"
        },
        {
          "output_type": "execute_result",
          "data": {
            "text/plain": [
              "<tensorflow.python.keras.callbacks.History at 0x7f1e107cb8d0>"
            ]
          },
          "metadata": {
            "tags": []
          },
          "execution_count": 30
        }
      ]
    },
    {
      "cell_type": "code",
      "metadata": {
        "colab": {
          "base_uri": "https://localhost:8080/"
        },
        "id": "beBC0X6bXbww",
        "outputId": "453711e7-f63b-4498-8e1d-886982d6fcfe"
      },
      "source": [
        "scores = model.evaluate(X_test,y_testOneHot)\n",
        "print()  \n",
        "print(\"\\t[Info] Accuracy of testing data = {:2.1f}%\".format(scores[1]*100.0))"
      ],
      "execution_count": null,
      "outputs": [
        {
          "output_type": "stream",
          "text": [
            "313/313 [==============================] - 4s 12ms/step - loss: 0.0263 - accuracy: 0.9917\n",
            "\n",
            "\t[Info] Accuracy of testing data = 99.2%\n"
          ],
          "name": "stdout"
        }
      ]
    },
    {
      "cell_type": "code",
      "metadata": {
        "colab": {
          "base_uri": "https://localhost:8080/"
        },
        "id": "8YWMc_ifX28P",
        "outputId": "f00006a8-e7d5-41e8-8af7-73bc436d063a"
      },
      "source": [
        "print(\"\\t[Info] Making prediction of X_test\")  \n",
        "prediction = model.predict_classes(X_test)  # Making prediction and save result to prediction  \n",
        "print()  \n",
        "print(\"\\t[Info] Show 10 prediction result (From 240):\")  \n",
        "print(\"%s\\n\" % (prediction[240:250]))  "
      ],
      "execution_count": null,
      "outputs": [
        {
          "output_type": "stream",
          "text": [
            "\t[Info] Making prediction of X_test\n"
          ],
          "name": "stdout"
        },
        {
          "output_type": "stream",
          "text": [
            "/usr/local/lib/python3.7/dist-packages/tensorflow/python/keras/engine/sequential.py:450: UserWarning: `model.predict_classes()` is deprecated and will be removed after 2021-01-01. Please use instead:* `np.argmax(model.predict(x), axis=-1)`,   if your model does multi-class classification   (e.g. if it uses a `softmax` last-layer activation).* `(model.predict(x) > 0.5).astype(\"int32\")`,   if your model does binary classification   (e.g. if it uses a `sigmoid` last-layer activation).\n",
            "  warnings.warn('`model.predict_classes()` is deprecated and '\n"
          ],
          "name": "stderr"
        },
        {
          "output_type": "stream",
          "text": [
            "\n",
            "\t[Info] Show 10 prediction result (From 240):\n",
            "[5 9 8 7 2 3 0 4 4 2]\n",
            "\n"
          ],
          "name": "stdout"
        }
      ]
    },
    {
      "cell_type": "code",
      "metadata": {
        "colab": {
          "base_uri": "https://localhost:8080/"
        },
        "id": "u_gReHb9YLZD",
        "outputId": "2da5186a-6f64-43df-eb22-a5d9a89dc3a4"
      },
      "source": [
        "import pandas as pd\n",
        "print(\"%s\\n\" % pd.crosstab(y_test, prediction, rownames=['label'], colnames=['predict']))"
      ],
      "execution_count": null,
      "outputs": [
        {
          "output_type": "stream",
          "text": [
            "predict    0     1     2     3    4    5    6     7    8    9\n",
            "label                                                        \n",
            "0        975     1     0     0    0    1    2     1    0    0\n",
            "1          0  1130     2     1    0    0    0     2    0    0\n",
            "2          1     0  1027     0    0    0    0     2    2    0\n",
            "3          0     0     0  1008    0    0    0     1    1    0\n",
            "4          0     0     0     0  978    0    1     0    1    2\n",
            "5          1     0     0     7    0  881    2     0    0    1\n",
            "6          3     2     0     1    2    3  947     0    0    0\n",
            "7          0     1     5     3    0    0    0  1017    2    0\n",
            "8          2     0     1     2    0    2    0     1  965    1\n",
            "9          1     3     0     1    4    2    0     5    4  989\n",
            "\n"
          ],
          "name": "stdout"
        }
      ]
    },
    {
      "cell_type": "code",
      "metadata": {
        "colab": {
          "base_uri": "https://localhost:8080/",
          "height": 168
        },
        "id": "6utXp92lZqoz",
        "outputId": "e4c4109e-e0f2-414d-8a14-8cc8bcd14edb"
      },
      "source": [
        ""
      ],
      "execution_count": null,
      "outputs": [
        {
          "output_type": "error",
          "ename": "ValueError",
          "evalue": "ignored",
          "traceback": [
            "\u001b[0;31m---------------------------------------------------------------------------\u001b[0m",
            "\u001b[0;31mValueError\u001b[0m                                Traceback (most recent call last)",
            "\u001b[0;32m<ipython-input-27-5ed98805fa7d>\u001b[0m in \u001b[0;36m<module>\u001b[0;34m()\u001b[0m\n\u001b[0;32m----> 1\u001b[0;31m \u001b[0my_test\u001b[0m\u001b[0;34m=\u001b[0m\u001b[0my_test\u001b[0m\u001b[0;34m.\u001b[0m\u001b[0mreshape\u001b[0m\u001b[0;34m(\u001b[0m\u001b[0;36m10000\u001b[0m\u001b[0;34m,\u001b[0m\u001b[0;36m1\u001b[0m\u001b[0;34m)\u001b[0m\u001b[0;34m\u001b[0m\u001b[0;34m\u001b[0m\u001b[0m\n\u001b[0m",
            "\u001b[0;31mValueError\u001b[0m: cannot reshape array of size 100000 into shape (10000,1)"
          ]
        }
      ]
    },
    {
      "cell_type": "code",
      "metadata": {
        "colab": {
          "base_uri": "https://localhost:8080/"
        },
        "id": "gkJ-vx9pZr1F",
        "outputId": "41dd37eb-7497-4d32-b6c5-4ef20f2bec4d"
      },
      "source": [
        "y_test.shape"
      ],
      "execution_count": null,
      "outputs": [
        {
          "output_type": "execute_result",
          "data": {
            "text/plain": [
              "(10000, 10)"
            ]
          },
          "metadata": {
            "tags": []
          },
          "execution_count": 29
        }
      ]
    },
    {
      "cell_type": "code",
      "metadata": {
        "id": "mSfQRDAwbQhh"
      },
      "source": [
        ""
      ],
      "execution_count": null,
      "outputs": []
    }
  ]
}